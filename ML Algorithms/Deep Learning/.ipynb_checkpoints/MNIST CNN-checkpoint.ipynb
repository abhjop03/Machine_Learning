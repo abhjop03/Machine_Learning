{
 "cells": [
  {
   "cell_type": "code",
   "execution_count": 1,
   "id": "9cc5e4d4-b8d4-4d92-bbca-705c9696618c",
   "metadata": {},
   "outputs": [],
   "source": [
    "import tensorflow as tf\n",
    "import keras\n",
    "import numpy as np\n",
    "import matplotlib.pyplot as plt"
   ]
  },
  {
   "cell_type": "code",
   "execution_count": 2,
   "id": "c335b9e2-4af7-4a23-9834-979e218bd9e0",
   "metadata": {},
   "outputs": [],
   "source": [
    "num_clasess = 10"
   ]
  },
  {
   "cell_type": "code",
   "execution_count": null,
   "id": "ed9a7184-b176-4eff-bd1c-62fdad5d0790",
   "metadata": {},
   "outputs": [],
   "source": [
    "(trainX, trainY), (testX, testY) = keras.datasets.mnist.load_data()"
   ]
  },
  {
   "cell_type": "code",
   "execution_count": null,
   "id": "bac4d1a6-b89d-4f39-bf79-b6f280a29abc",
   "metadata": {},
   "outputs": [],
   "source": [
    "trainX[1]"
   ]
  },
  {
   "cell_type": "code",
   "execution_count": null,
   "id": "ad021efb-3ba9-4d22-b254-efc816449242",
   "metadata": {},
   "outputs": [],
   "source": [
    "print(trainX.shape, trainY.shape, testX.shape, testY.shape)"
   ]
  },
  {
   "cell_type": "code",
   "execution_count": null,
   "id": "de4aeecd-3bf7-4b6e-bca6-d3b542e8fd11",
   "metadata": {},
   "outputs": [],
   "source": [
    "example = trainX[1100]\n",
    "print(trainY[1100])\n",
    "plt.imshow(example)"
   ]
  },
  {
   "cell_type": "code",
   "execution_count": null,
   "id": "f002a7f8-fce7-4d05-81cc-5d901cdd4d3a",
   "metadata": {},
   "outputs": [],
   "source": [
    "trainX = trainX/255\n",
    "tetsX = testX/255"
   ]
  },
  {
   "cell_type": "code",
   "execution_count": null,
   "id": "d4818e28-4dfd-44dc-a05c-96fed64c2e2d",
   "metadata": {},
   "outputs": [],
   "source": [
    "trainX = np.expand_dims(trainX, -1)\n",
    "testX = np.expand_dims(testX, -1)"
   ]
  },
  {
   "cell_type": "code",
   "execution_count": null,
   "id": "19ea4e7b-5e2a-483a-8cdb-98b0841147ec",
   "metadata": {},
   "outputs": [],
   "source": [
    "testX"
   ]
  },
  {
   "cell_type": "code",
   "execution_count": null,
   "id": "ad0436eb-ac3c-44e0-9632-303583b17cda",
   "metadata": {},
   "outputs": [],
   "source": [
    "trainY"
   ]
  },
  {
   "cell_type": "code",
   "execution_count": null,
   "id": "6550feb7-4463-4408-a97f-6e5ba030e1ca",
   "metadata": {},
   "outputs": [],
   "source": []
  }
 ],
 "metadata": {
  "kernelspec": {
   "display_name": "Python 3 (ipykernel)",
   "language": "python",
   "name": "python3"
  },
  "language_info": {
   "codemirror_mode": {
    "name": "ipython",
    "version": 3
   },
   "file_extension": ".py",
   "mimetype": "text/x-python",
   "name": "python",
   "nbconvert_exporter": "python",
   "pygments_lexer": "ipython3",
   "version": "3.12.0"
  }
 },
 "nbformat": 4,
 "nbformat_minor": 5
}

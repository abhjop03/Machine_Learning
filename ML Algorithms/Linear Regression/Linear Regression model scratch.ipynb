{
 "cells": [
  {
   "cell_type": "code",
   "execution_count": 1,
   "id": "3e3a9543-e109-45a5-afb1-34c0c434b7f4",
   "metadata": {},
   "outputs": [],
   "source": [
    "import numpy as np\n",
    "import pandas as pd\n",
    "import matplotlib.pyplot as plt\n",
    "#from sklearn.datasets import load_boston"
   ]
  },
  {
   "cell_type": "code",
   "execution_count": 2,
   "id": "28776133-a8b4-4dc6-9f74-c942608abdef",
   "metadata": {},
   "outputs": [
    {
     "name": "stderr",
     "output_type": "stream",
     "text": [
      "<>:2: SyntaxWarning: invalid escape sequence '\\s'\n",
      "<>:2: SyntaxWarning: invalid escape sequence '\\s'\n",
      "C:\\Users\\Abhishek Yadav\\AppData\\Local\\Temp\\ipykernel_16340\\1534116213.py:2: SyntaxWarning: invalid escape sequence '\\s'\n",
      "  raw_df = pd.read_csv(data_url, sep=\"\\s+\", skiprows=22, header=None)\n"
     ]
    }
   ],
   "source": [
    "data_url = \"http://lib.stat.cmu.edu/datasets/boston\"\n",
    "raw_df = pd.read_csv(data_url, sep=\"\\s+\", skiprows=22, header=None)\n",
    "data = np.hstack([raw_df.values[::2, :], raw_df.values[1::2, :2]])\n",
    "target = raw_df.values[1::2, 2]\n"
   ]
  },
  {
   "cell_type": "code",
   "execution_count": 3,
   "id": "a8dc4d6b-5c2c-49f2-9e76-8288fbd9b4a6",
   "metadata": {},
   "outputs": [
    {
     "data": {
      "text/plain": [
       "((506, 13), (506,))"
      ]
     },
     "execution_count": 3,
     "metadata": {},
     "output_type": "execute_result"
    }
   ],
   "source": [
    "data.shape, target.shape"
   ]
  },
  {
   "cell_type": "code",
   "execution_count": 4,
   "id": "40cfceca-8ea6-4b68-8da2-0b8b9c4dcfd8",
   "metadata": {},
   "outputs": [],
   "source": [
    "u = np.mean(data, axis = 0)\n",
    "std = np.std(data, axis = 0)\n",
    "\n",
    "data = (data - u)/std\n",
    "\n",
    "u_t = np.mean(target,axis = 0)\n",
    "std_t = np.std(target, axis = 0)\n",
    "\n",
    "target = (target - u_t)/std_t"
   ]
  },
  {
   "cell_type": "code",
   "execution_count": 5,
   "id": "663831a2-aca0-45d5-831c-74779a0bdd92",
   "metadata": {},
   "outputs": [],
   "source": [
    "ones = np.ones((data.shape[0], 1))\n",
    "data = np.hstack((ones, data))"
   ]
  },
  {
   "cell_type": "code",
   "execution_count": 6,
   "id": "863de350-0990-4758-b613-3c2a124af2d0",
   "metadata": {},
   "outputs": [],
   "source": [
    "\n",
    "\n",
    "split = 0.8\n",
    "\n",
    "train_x = data[:int(split * data.shape[0]), :]\n",
    "train_y = target[:int(split * target.shape[0])]\n",
    "\n",
    "test_x = data[int(split*data.shape[0]): , :]\n",
    "test_y = target[int(split*data.shape[0]):]"
   ]
  },
  {
   "cell_type": "code",
   "execution_count": 7,
   "id": "199a5806-5f77-4330-99f5-b398c73e27e2",
   "metadata": {},
   "outputs": [
    {
     "data": {
      "text/plain": [
       "((404, 14), (404,), (102, 14), (102,))"
      ]
     },
     "execution_count": 7,
     "metadata": {},
     "output_type": "execute_result"
    }
   ],
   "source": [
    "train_x.shape, train_y.shape, test_x.shape, test_y.shape"
   ]
  },
  {
   "cell_type": "code",
   "execution_count": 8,
   "id": "e67c45ab-c9e8-41eb-81e5-dc8a86592cc5",
   "metadata": {},
   "outputs": [],
   "source": [
    "def hypothesis(x, weight):\n",
    "    pred = 0\n",
    "    for i in range (x.shape[0]):\n",
    "        pred += weight[i] * x[i]\n",
    "    return pred\n"
   ]
  },
  {
   "cell_type": "code",
   "execution_count": 9,
   "id": "780bd074-4978-4c77-9239-e5ca1551ee4f",
   "metadata": {},
   "outputs": [],
   "source": [
    "def loss(x, y, weight):\n",
    "    error = 0\n",
    "    for i in range (x.shape[0]):\n",
    "        y_pred = hypothesis(x[i], weight)\n",
    "        error += (y_pred - y[i])**2\n",
    "    return error/x.shape[0]\n",
    "    "
   ]
  },
  {
   "cell_type": "code",
   "execution_count": 10,
   "id": "682b4dd6-5501-4a7b-95ed-8e886066fcad",
   "metadata": {},
   "outputs": [],
   "source": [
    "def gradient(x, y, weight):\n",
    "    grad = np.zeros((x.shape[1], 1))\n",
    "    for j in range (x.shape[1]):\n",
    "        for i in range(x.shape[0]):\n",
    "            y_pred = hypothesis(x[i], weight)\n",
    "            grad[j] += (y_pred - y[i]) * x [i, j]\n",
    "    return grad/x.shape[0]\n",
    "        "
   ]
  },
  {
   "cell_type": "code",
   "execution_count": 11,
   "id": "87c67884-5c9c-4e8f-92e5-656999a8ebd1",
   "metadata": {},
   "outputs": [],
   "source": [
    "def gradient_descent(x, y):\n",
    "    weight = np.zeros((x.shape[1], 1))\n",
    "    cost = []\n",
    "    lr_rate = 0.03\n",
    "    epoches = 1000\n",
    "\n",
    "    for i in range (epoches):\n",
    "        cost.append(loss(x, y, weight))\n",
    "        grad = gradient(x, y, weight)\n",
    "        print(f'cost on : {i}', end = '\\r')\n",
    "\n",
    "        for j in range (x.shape[1]):\n",
    "            weight[j] = weight[j] - lr_rate * grad[j]\n",
    "\n",
    "    return weight, cost\n",
    "                      "
   ]
  },
  {
   "cell_type": "code",
   "execution_count": null,
   "id": "e65d3b63-216c-4c12-bde3-9bf6e2596e2d",
   "metadata": {},
   "outputs": [
    {
     "name": "stdout",
     "output_type": "stream",
     "text": [
      "cost on : 432\r"
     ]
    }
   ],
   "source": [
    "weight, loss_epoches = gradient_descent(train_x, train_y)"
   ]
  },
  {
   "cell_type": "code",
   "execution_count": null,
   "id": "b4e36ef3-26f4-422d-8218-b3f9a33b1ef5",
   "metadata": {},
   "outputs": [],
   "source": [
    "plt.plot(loss_epoches)"
   ]
  },
  {
   "cell_type": "code",
   "execution_count": null,
   "id": "2571db3d-1b9e-4ee5-825d-0b2bd17de684",
   "metadata": {},
   "outputs": [],
   "source": []
  },
  {
   "cell_type": "code",
   "execution_count": null,
   "id": "66c08766-5fb5-40a0-801e-7f0dc42502f2",
   "metadata": {},
   "outputs": [],
   "source": []
  }
 ],
 "metadata": {
  "kernelspec": {
   "display_name": "Python 3 (ipykernel)",
   "language": "python",
   "name": "python3"
  },
  "language_info": {
   "codemirror_mode": {
    "name": "ipython",
    "version": 3
   },
   "file_extension": ".py",
   "mimetype": "text/x-python",
   "name": "python",
   "nbconvert_exporter": "python",
   "pygments_lexer": "ipython3",
   "version": "3.12.0"
  }
 },
 "nbformat": 4,
 "nbformat_minor": 5
}

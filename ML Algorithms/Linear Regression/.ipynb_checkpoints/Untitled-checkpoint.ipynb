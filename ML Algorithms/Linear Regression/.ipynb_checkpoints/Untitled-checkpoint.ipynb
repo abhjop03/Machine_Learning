{
 "cells": [
  {
   "cell_type": "code",
   "execution_count": 64,
   "id": "3e3a9543-e109-45a5-afb1-34c0c434b7f4",
   "metadata": {},
   "outputs": [],
   "source": [
    "import numpy as np\n",
    "import pandas as pd\n",
    "import matplotlib.pyplot as plt\n",
    "#from sklearn.datasets import load_boston"
   ]
  },
  {
   "cell_type": "code",
   "execution_count": 4,
   "id": "28776133-a8b4-4dc6-9f74-c942608abdef",
   "metadata": {},
   "outputs": [
    {
     "name": "stderr",
     "output_type": "stream",
     "text": [
      "<>:2: SyntaxWarning: invalid escape sequence '\\s'\n",
      "<>:2: SyntaxWarning: invalid escape sequence '\\s'\n",
      "C:\\Users\\Abhishek Yadav\\AppData\\Local\\Temp\\ipykernel_16472\\1534116213.py:2: SyntaxWarning: invalid escape sequence '\\s'\n",
      "  raw_df = pd.read_csv(data_url, sep=\"\\s+\", skiprows=22, header=None)\n"
     ]
    }
   ],
   "source": [
    "data_url = \"http://lib.stat.cmu.edu/datasets/boston\"\n",
    "raw_df = pd.read_csv(data_url, sep=\"\\s+\", skiprows=22, header=None)\n",
    "data = np.hstack([raw_df.values[::2, :], raw_df.values[1::2, :2]])\n",
    "target = raw_df.values[1::2, 2]\n"
   ]
  },
  {
   "cell_type": "code",
   "execution_count": 5,
   "id": "a8dc4d6b-5c2c-49f2-9e76-8288fbd9b4a6",
   "metadata": {},
   "outputs": [
    {
     "data": {
      "text/plain": [
       "((506, 13), (506,))"
      ]
     },
     "execution_count": 5,
     "metadata": {},
     "output_type": "execute_result"
    }
   ],
   "source": [
    "data.shape, target.shape"
   ]
  },
  {
   "cell_type": "code",
   "execution_count": 21,
   "id": "40cfceca-8ea6-4b68-8da2-0b8b9c4dcfd8",
   "metadata": {},
   "outputs": [],
   "source": [
    "u = np.mean(data, axis = 0)\n",
    "std = np.std(data, axis = 0)\n",
    "\n",
    "data = (data - u)/std\n",
    "\n",
    "u_t = np.mean(target,axis = 0)\n",
    "std_t = np.std(target, axis = 0)\n",
    "\n",
    "target = (target - u_t)/std_t"
   ]
  },
  {
   "cell_type": "code",
   "execution_count": 33,
   "id": "663831a2-aca0-45d5-831c-74779a0bdd92",
   "metadata": {},
   "outputs": [],
   "source": [
    "ones = np.ones((data.shape[0], 1))\n",
    "data = np.hstack((ones, data))"
   ]
  },
  {
   "cell_type": "code",
   "execution_count": 47,
   "id": "863de350-0990-4758-b613-3c2a124af2d0",
   "metadata": {},
   "outputs": [],
   "source": [
    "split = 0.8\n",
    "\n",
    "train_x = data[:int(split * data.shape[0]), :]\n",
    "train_y = target[:int(split * target.shape[0])]\n",
    "\n",
    "test_x = data[int(split*data.shape[0]): , :]\n",
    "test_y = target[int(split*data.shape[0]):]"
   ]
  },
  {
   "cell_type": "code",
   "execution_count": 48,
   "id": "199a5806-5f77-4330-99f5-b398c73e27e2",
   "metadata": {},
   "outputs": [
    {
     "data": {
      "text/plain": [
       "((404, 14), (404,), (102, 14), (102,))"
      ]
     },
     "execution_count": 48,
     "metadata": {},
     "output_type": "execute_result"
    }
   ],
   "source": [
    "train_x.shape, train_y.shape, test_x.shape, test_y.shape"
   ]
  },
  {
   "cell_type": "code",
   "execution_count": 50,
   "id": "e67c45ab-c9e8-41eb-81e5-dc8a86592cc5",
   "metadata": {},
   "outputs": [],
   "source": [
    "def hypothesis(x, weight):\n",
    "    pred = 0\n",
    "    for i in range (x.shape[0]):\n",
    "        pred += weight[i] * x[i]\n",
    "    return pred\n"
   ]
  },
  {
   "cell_type": "code",
   "execution_count": 56,
   "id": "780bd074-4978-4c77-9239-e5ca1551ee4f",
   "metadata": {},
   "outputs": [],
   "source": [
    "def loss(x, y, weight):\n",
    "    error = 0\n",
    "    for i in range (x.shape[0]):\n",
    "        y_pred = hypothesis(x[i], weight)\n",
    "        error += (y_pred - y[i])**2\n",
    "    return error/x.shape[0]\n",
    "    "
   ]
  },
  {
   "cell_type": "code",
   "execution_count": 57,
   "id": "682b4dd6-5501-4a7b-95ed-8e886066fcad",
   "metadata": {},
   "outputs": [],
   "source": [
    "def gradient(x, y, weight):\n",
    "    grad = np.zeros((x.shape[1], 1))\n",
    "    for j in range (x.shape[1]):\n",
    "        for i in range(x.shape[0]):\n",
    "            y_pred = hypothesis(x[i], weight)\n",
    "            grad[j] += (y_pred - y[i]) * x [i, j]\n",
    "    return grad/x.shape[0]\n",
    "        "
   ]
  },
  {
   "cell_type": "code",
   "execution_count": 70,
   "id": "87c67884-5c9c-4e8f-92e5-656999a8ebd1",
   "metadata": {},
   "outputs": [],
   "source": [
    "def gradient_descent(x, y):\n",
    "    weight = np.zeros((x.shape[1],))\n",
    "    cost = []\n",
    "    lr_rate = 0.03\n",
    "    epoches = 1000\n",
    "\n",
    "    for i in range (epoches):\n",
    "        cost.append(loss(x, y, weight))\n",
    "        grad = gradient(x, y, weight)\n",
    "        print(f'cost on : {i}', end = '\\r')\n",
    "\n",
    "        for j in range (x.shape[1]):\n",
    "            weight[j] = weight[j] - lr_rate * grad[j]\n",
    "\n",
    "    return weight, cost\n",
    "                      "
   ]
  },
  {
   "cell_type": "code",
   "execution_count": 71,
   "id": "e65d3b63-216c-4c12-bde3-9bf6e2596e2d",
   "metadata": {},
   "outputs": [
    {
     "name": "stdout",
     "output_type": "stream",
     "text": [
      "cost on : 3\r"
     ]
    },
    {
     "name": "stderr",
     "output_type": "stream",
     "text": [
      "C:\\Users\\Abhishek Yadav\\AppData\\Local\\Temp\\ipykernel_16472\\116751959.py:13: DeprecationWarning: Conversion of an array with ndim > 0 to a scalar is deprecated, and will error in future. Ensure you extract a single element from your array before performing this operation. (Deprecated NumPy 1.25.)\n",
      "  weight[j] = weight[j] - lr_rate * grad[j]\n"
     ]
    },
    {
     "name": "stdout",
     "output_type": "stream",
     "text": [
      "cost on : 999\r"
     ]
    }
   ],
   "source": [
    "weight, loss_epoches = gradient_descent(train_x, train_y)"
   ]
  },
  {
   "cell_type": "code",
   "execution_count": 72,
   "id": "b4e36ef3-26f4-422d-8218-b3f9a33b1ef5",
   "metadata": {},
   "outputs": [
    {
     "data": {
      "text/plain": [
       "[<matplotlib.lines.Line2D at 0x19fb2554e60>]"
      ]
     },
     "execution_count": 72,
     "metadata": {},
     "output_type": "execute_result"
    },
    {
     "data": {
      "image/png": "[encoded data removed]",
      "text/plain": [
       "<Figure size 640x480 with 1 Axes>"
      ]
     },
     "metadata": {},
     "output_type": "display_data"
    }
   ],
   "source": [
    "plt.plot(loss_epoches)"
   ]
  },
  {
   "cell_type": "code",
   "execution_count": 73,
   "id": "2571db3d-1b9e-4ee5-825d-0b2bd17de684",
   "metadata": {},
   "outputs": [
    {
     "data": {
      "text/plain": [
       "[<matplotlib.lines.Line2D at 0x19fb256f2c0>]"
      ]
     },
     "execution_count": 73,
     "metadata": {},
     "output_type": "execute_result"
    },
    {
     "data": {
      "image/png": "[encoded data removed]",
      "text/plain": [
       "<Figure size 640x480 with 1 Axes>"
      ]
     },
     "metadata": {},
     "output_type": "display_data"
    }
   ],
   "source": [
    "plt.plot(loss_epoches)"
   ]
  },
  {
   "cell_type": "code",
   "execution_count": 74,
   "id": "c442a33a-6693-49d9-8ad3-6b5e12f08895",
   "metadata": {},
   "outputs": [],
   "source": [
    "test_x = data[int(split*data.shape[0]): , :]\n",
    "test_y = target[int(split*data.shape[0]):]"
   ]
  },
  {
   "cell_type": "code",
   "execution_count": 75,
   "id": "995fa7d6-540c-4cc2-9270-9d51b5050fe9",
   "metadata": {},
   "outputs": [
    {
     "data": {
      "text/plain": [
       "(14,)"
      ]
     },
     "execution_count": 75,
     "metadata": {},
     "output_type": "execute_result"
    }
   ],
   "source": [
    "weight.shape"
   ]
  },
  {
   "cell_type": "code",
   "execution_count": 76,
   "id": "a5491ced-5551-41de-9fcd-fcd9a65faf25",
   "metadata": {},
   "outputs": [],
   "source": [
    "# test the model"
   ]
  },
  {
   "cell_type": "code",
   "execution_count": 78,
   "id": "17978baa-6e70-43f7-af7f-92d31543eced",
   "metadata": {},
   "outputs": [
    {
     "data": {
      "text/plain": [
       "((102, 14), (102,))"
      ]
     },
     "execution_count": 78,
     "metadata": {},
     "output_type": "execute_result"
    }
   ],
   "source": [
    "test_x.shape, test_y.shape"
   ]
  },
  {
   "cell_type": "code",
   "execution_count": 80,
   "id": "140decc6-cdfb-4248-bb0f-b57c6e0735a0",
   "metadata": {},
   "outputs": [
    {
     "name": "stdout",
     "output_type": "stream",
     "text": [
      "-1.8027787334887493 -1.5272952428234872\n",
      "-1.9982750544063699 -1.9082264141386431\n",
      "-1.7435297208818332 -1.1572478192601932\n",
      "-0.15696525113912355 0.5841518210376616\n",
      "-0.8082259833681343 -0.5804091884115288\n",
      "0.08096625473401536 0.5406168300302154\n",
      "-0.6775940784877431 -0.8198516389524837\n",
      "-0.09269631851330423 -0.5804091884115288\n",
      "-2.0141284113356366 -0.5042229541484977\n",
      "-1.1391691801667896 -0.6783629181782829\n",
      "-2.958386040656828 -1.6905514591014112\n",
      "-0.9192658829342794 -1.668783963597688\n",
      "-0.3963848235526516 -1.6361327203421032\n",
      "-1.5172138813823615 -1.320504035538117\n",
      "-1.8377664187737888 -1.4946439995679024\n",
      "-0.2815443252928348 -1.538178990575349\n",
      "-0.061543120754701516 -0.6348279271708367\n",
      "-0.22994076482634412 -0.9069216209673765\n",
      "-0.27539559172235095 -0.18859426934451123\n",
      "-0.45197423341882326 -0.9939916029822692\n",
      "-0.37570877854809964 -1.1790153147639164\n",
      "-0.8931724489917587 -1.5490627383272104\n",
      "-0.21598924373344774 -1.3422715310418403\n",
      "-0.6175687510352178 -1.266085296778809\n",
      "-0.4087858335671239 -1.2552015490269475\n",
      "-0.4989561075303819 -1.4184577653048713\n",
      "0.00885811947469567 -0.8742703777117917\n",
      "0.10674874199375273 -0.9178053687192381\n",
      "0.3920698881265833 -0.700130413682006\n",
      "-0.044055788702641624 -0.8960378732155148\n",
      "-0.26211547144512437 -1.1790153147639164\n",
      "-0.4833922247303153 -0.9939916029822692\n",
      "-0.31318256841626 -1.4075740175530098\n",
      "-0.960765505958008 -1.5055277473197641\n",
      "-1.4746512215544927 -1.538178990575349\n",
      "-0.9258931191415998 -1.0592940894934386\n",
      "-1.0542890926201172 -1.3096202877862555\n",
      "-0.3663030203877645 -0.5912929361633901\n",
      "-0.20062652483518564 -0.4498042153891897\n",
      "-0.2785654111122769 -0.7763166479450373\n",
      "-0.9295017383784472 -1.2769690445306705\n",
      "-0.577702181589581 -1.1681315670120547\n",
      "-0.223435564326608 -0.8307353867043452\n",
      "-0.29228413143416837 -1.081061584997162\n",
      "-0.3787403113544196 -0.9178053687192381\n",
      "-0.26978447498823077 -1.0375265939897156\n",
      "0.03271658047953935 -0.9939916029822692\n",
      "-0.03912922846922806 -0.7980841434487606\n",
      "-0.1973146033877337 -0.700130413682006\n",
      "0.32839944341922234 -0.515106701900359\n",
      "-0.1352245728961969 -0.8307353867043452\n",
      "-0.10416445409265651 -0.9178053687192381\n",
      "-0.45639084291390736 -1.0701778372453004\n",
      "-0.46082968698966104 -0.9831078552304076\n",
      "-0.2423528293153445 -0.8307353867043452\n",
      "-0.2493263999684398 -0.27566425135940403\n",
      "0.04592892059994805 -0.6674791704264216\n",
      "-0.004787639222778389 -0.5259904496522207\n",
      "-0.08490008629611973 -0.330082990118712\n",
      "0.24097423386358294 -0.25389675585568094\n",
      "-0.0662545465845081 -0.1232917828333419\n",
      "-0.26833839350447697 -0.28654799911126577\n",
      "-0.2941020651924754 -0.38450172887802\n",
      "-0.3869415297327883 -0.37361798112615824\n",
      "-0.5305829835954088 -0.37361798112615824\n",
      "-0.3872339958749269 -0.2647805036075423\n",
      "-0.08044797653118205 -0.28654799911126577\n",
      "0.22415545001236573 -0.31919924236685027\n",
      "0.20627530193809598 0.07261567670016686\n",
      "0.6211121859594051 0.7909430283230322\n",
      "-0.5650366197961566 -0.9504566119748228\n",
      "-0.45571056488576334 -1.0048753507341308\n",
      "-0.01232818503807559 -0.6348279271708367\n",
      "-1.1669109032909812 -1.1463640715083314\n",
      "-0.2217413568115772 -0.8633866299599301\n",
      "0.02911837210169482 -0.1232917828333419\n",
      "0.2649199036618888 0.05084818119644375\n",
      "0.7212926259710974 0.12703441545947483\n",
      "0.9140960127091644 0.26852313623367563\n",
      "-0.004438975242562149 -0.07975679182589529\n",
      "-0.13232074315442482 -0.21036176484823435\n",
      "0.19242078752095162 -0.145059278337065\n",
      "-0.13876431680641899 -0.37361798112615824\n",
      "0.025665108976166716 -0.21036176484823435\n",
      "-1.19840980004009 -0.7980841434487606\n",
      "-1.5472816638706157 -1.6905514591014112\n",
      "-2.0530647567920024 -1.5708302338309337\n",
      "-0.9274853544624369 -0.972224107478546\n",
      "-0.6926031781173364 -0.2647805036075423\n",
      "-0.24954184118024084 -0.07975679182589529\n",
      "-0.23147468376144792 0.21410439747436766\n",
      "-0.6568702628425375 0.061731928948305495\n",
      "-1.0011912323815242 -0.3083154946149889\n",
      "-0.3966533775221267 -0.46068796314105104\n",
      "-0.14261817247467196 -0.145059278337065\n",
      "-0.49887860479573204 -0.5477579451559439\n",
      "-0.22949722277849932 -0.623944179418975\n",
      "0.15231056977262092 -0.014454305314725968\n",
      "-0.031196904435337347 -0.21036176484823435\n",
      "0.633652498408398 0.14880191096319792\n",
      "0.4575358461036519 -0.05798929632217219\n",
      "-0.03885314105229282 -1.1572478192601932\n"
     ]
    }
   ],
   "source": [
    "for i in range (test_x.shape[0]):\n",
    "    print(hypothesis(test_x[i], weight), test_y[i])"
   ]
  },
  {
   "cell_type": "raw",
   "id": "db2dad53-d701-4cc9-bd40-95031f11ad1e",
   "metadata": {},
   "source": [
    "print(\"MSE Loss\", loss(test_x, test_y, weight))"
   ]
  },
  {
   "cell_type": "code",
   "execution_count": 82,
   "id": "0c0ca84b-6139-4e8d-8ded-a2863d3927a0",
   "metadata": {},
   "outputs": [
    {
     "name": "stdout",
     "output_type": "stream",
     "text": [
      "MSE Loss 0.3564541113887443\n"
     ]
    }
   ],
   "source": [
    "print(\"MSE Loss\", loss(test_x, test_y, weight))"
   ]
  },
  {
   "cell_type": "code",
   "execution_count": null,
   "id": "f0ae1fda-78bb-4017-a691-749dd684c9c3",
   "metadata": {},
   "outputs": [],
   "source": []
  }
 ],
 "metadata": {
  "kernelspec": {
   "display_name": "Python 3 (ipykernel)",
   "language": "python",
   "name": "python3"
  },
  "language_info": {
   "codemirror_mode": {
    "name": "ipython",
    "version": 3
   },
   "file_extension": ".py",
   "mimetype": "text/x-python",
   "name": "python",
   "nbconvert_exporter": "python",
   "pygments_lexer": "ipython3",
   "version": "3.12.0"
  }
 },
 "nbformat": 4,
 "nbformat_minor": 5
}

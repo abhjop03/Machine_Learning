{
 "cells": [
  {
   "cell_type": "code",
   "execution_count": 4,
   "metadata": {},
   "outputs": [],
   "source": [
    "import pandas as pd\n",
    "import numpy as np\n",
    "import matplotlib.pyplot as plt\n",
    "%matplotlib inline"
   ]
  },
  {
   "cell_type": "code",
   "execution_count": 9,
   "metadata": {},
   "outputs": [],
   "source": [
    "df = pd.read_csv(r'C:/Users/Abhishek Yadav/OneDrive/Desktop/Coding Block/Dataset/Boston House Price/Boston_House_Price.csv')"
   ]
  },
  {
   "cell_type": "code",
   "execution_count": 13,
   "metadata": {},
   "outputs": [],
   "source": [
    "df = df.values"
   ]
  },
  {
   "cell_type": "code",
   "execution_count": 14,
   "metadata": {},
   "outputs": [],
   "source": [
    "split = 0.8\n",
    "train_x = df[:int(split * df.shape[0]), :-1]\n",
    "train_y = df[:int(split * df.shape[0]), -1]\n",
    "\n",
    "\n",
    "test_x = df[int(split * df.shape[0]): ,:-1]\n",
    "test_y = df[int(split * df.shape[0]): ,-1]"
   ]
  },
  {
   "cell_type": "code",
   "execution_count": 15,
   "metadata": {},
   "outputs": [
    {
     "name": "stdout",
     "output_type": "stream",
     "text": [
      "(404, 13) (404,) (102, 13) (102,)\n"
     ]
    }
   ],
   "source": [
    "print(train_x.shape,train_y.shape, test_x.shape, test_y.shape )"
   ]
  },
  {
   "cell_type": "code",
   "execution_count": 16,
   "metadata": {},
   "outputs": [],
   "source": [
    "# mean, standard deviation\n",
    "mean = np.mean(train_x, axis=0)\n",
    "std = np.std(train_x, axis=0)\n",
    "train_x = (train_x - mean) / std"
   ]
  },
  {
   "cell_type": "code",
   "execution_count": 17,
   "metadata": {},
   "outputs": [
    {
     "data": {
      "text/plain": [
       "array([[-0.30744059,  0.149023  , -1.10173938, ..., -1.22944106,\n",
       "         0.41832418, -0.93543756],\n",
       "       [-0.30406122, -0.56299755, -0.37259016, ..., -0.10202552,\n",
       "         0.41832418, -0.32501396],\n",
       "       [-0.30406444, -0.56299755, -0.37259016, ..., -0.10202552,\n",
       "         0.31774791, -1.07483718],\n",
       "       ...,\n",
       "       [ 1.98355756, -0.56299755,  1.31701403, ...,  0.98029339,\n",
       "         0.41832418,  1.31549947],\n",
       "       [ 1.23644276, -0.56299755,  1.31701403, ...,  0.98029339,\n",
       "        -0.09543025,  1.31403211],\n",
       "       [ 3.68459376, -0.56299755,  1.31701403, ...,  0.98029339,\n",
       "         0.41832418,  1.23479443]])"
      ]
     },
     "execution_count": 17,
     "metadata": {},
     "output_type": "execute_result"
    }
   ],
   "source": [
    "train_x"
   ]
  },
  {
   "cell_type": "code",
   "execution_count": 18,
   "metadata": {},
   "outputs": [],
   "source": [
    "ones = np.ones((train_x.shape[0],1))\n",
    "train_x = np.hstack((ones, train_x))"
   ]
  },
  {
   "cell_type": "code",
   "execution_count": 19,
   "metadata": {},
   "outputs": [
    {
     "data": {
      "text/plain": [
       "array([[ 1.        , -0.30744059,  0.149023  , ..., -1.22944106,\n",
       "         0.41832418, -0.93543756],\n",
       "       [ 1.        , -0.30406122, -0.56299755, ..., -0.10202552,\n",
       "         0.41832418, -0.32501396],\n",
       "       [ 1.        , -0.30406444, -0.56299755, ..., -0.10202552,\n",
       "         0.31774791, -1.07483718],\n",
       "       ...,\n",
       "       [ 1.        ,  1.98355756, -0.56299755, ...,  0.98029339,\n",
       "         0.41832418,  1.31549947],\n",
       "       [ 1.        ,  1.23644276, -0.56299755, ...,  0.98029339,\n",
       "        -0.09543025,  1.31403211],\n",
       "       [ 1.        ,  3.68459376, -0.56299755, ...,  0.98029339,\n",
       "         0.41832418,  1.23479443]])"
      ]
     },
     "execution_count": 19,
     "metadata": {},
     "output_type": "execute_result"
    }
   ],
   "source": [
    "train_x"
   ]
  },
  {
   "cell_type": "code",
   "execution_count": 21,
   "metadata": {},
   "outputs": [],
   "source": [
    "def hypothesis(x, weight):\n",
    "    y_predict = 0\n",
    "    for i in range(train_x.shape[0]):\n",
    "        y_predict = y_predict + weight[i] + x[i]\n",
    "    return(y_predict)"
   ]
  },
  {
   "cell_type": "code",
   "execution_count": 23,
   "metadata": {},
   "outputs": [],
   "source": [
    "def loss_func(x, weight, y_true):\n",
    "    \n",
    "    loss = 0\n",
    "    \n",
    "    for i in range(train_x.shape[0]):\n",
    "        y_predict = hypothesis(x[i], weight) \n",
    "        loss += (y_predict - y_true[i])**2\n",
    "    \n",
    "    return loss/x.shape[0]"
   ]
  },
  {
   "cell_type": "code",
   "execution_count": 25,
   "metadata": {},
   "outputs": [],
   "source": [
    "def gradient(x, y, weights ):\n",
    "    \n",
    "    grad = np.zeros((train_x.shape[1],))\n",
    "    \n",
    "    for j in range(train_x.shape[1]):\n",
    "        for k in range(train_x.shape[0]):\n",
    "            y_predict = hypothesis(x[k], weight)\n",
    "            \n",
    "            grad[j] += (y_predict - y[k])* x[k][j]\n",
    "    \n",
    "    return grad/x.shape[0]\n",
    "    "
   ]
  },
  {
   "cell_type": "code",
   "execution_count": 26,
   "metadata": {},
   "outputs": [],
   "source": [
    "def gradient_descent(X_train, Y_train):\n",
    "    \n",
    "    weight = np.zeros((train_X.shape[1], ))\n",
    "    loss_epoch = []\n",
    "    lr_rate = 0.03\n",
    "    \n",
    "    epochs = 1000\n",
    "    \n",
    "    for i in range(epochs):\n",
    "        print(f'\\r on {i}', end='\\r')        \n",
    "        grad = gradient(X_train, Y_train, weight)\n",
    "        \n",
    "        loss = loss_func(X_train, weight, Y_train)\n",
    "        loss_epoch.append(loss)\n",
    "        \n",
    "        for i in range(X_train.shape[1]):\n",
    "            weight[i] = weight[i] - lr_rate * grad[i]\n",
    "        \n",
    "    return weight, loss_epoch"
   ]
  },
  {
   "cell_type": "code",
   "execution_count": 28,
   "metadata": {},
   "outputs": [
    {
     "ename": "NameError",
     "evalue": "name 'train_X' is not defined",
     "output_type": "error",
     "traceback": [
      "\u001b[1;31m---------------------------------------------------------------------------\u001b[0m",
      "\u001b[1;31mNameError\u001b[0m                                 Traceback (most recent call last)",
      "\u001b[1;32mc:\\Users\\Abhishek Yadav\\OneDrive\\Desktop\\Coding Block\\Boston_data_set_LR.ipynb Cell 14\u001b[0m line \u001b[0;36m1\n\u001b[1;32m----> <a href='vscode-notebook-cell:/c%3A/Users/Abhishek%20Yadav/OneDrive/Desktop/Coding%20Block/Boston_data_set_LR.ipynb#X16sZmlsZQ%3D%3D?line=0'>1</a>\u001b[0m weight, loss_epoch \u001b[39m=\u001b[39m gradient_descent(train_x, train_y)\n",
      "\u001b[1;32mc:\\Users\\Abhishek Yadav\\OneDrive\\Desktop\\Coding Block\\Boston_data_set_LR.ipynb Cell 14\u001b[0m line \u001b[0;36m3\n\u001b[0;32m      <a href='vscode-notebook-cell:/c%3A/Users/Abhishek%20Yadav/OneDrive/Desktop/Coding%20Block/Boston_data_set_LR.ipynb#X16sZmlsZQ%3D%3D?line=0'>1</a>\u001b[0m \u001b[39mdef\u001b[39;00m \u001b[39mgradient_descent\u001b[39m(X_train, Y_train):\n\u001b[1;32m----> <a href='vscode-notebook-cell:/c%3A/Users/Abhishek%20Yadav/OneDrive/Desktop/Coding%20Block/Boston_data_set_LR.ipynb#X16sZmlsZQ%3D%3D?line=2'>3</a>\u001b[0m     weight \u001b[39m=\u001b[39m np\u001b[39m.\u001b[39mzeros((train_X\u001b[39m.\u001b[39mshape[\u001b[39m1\u001b[39m], ))\n\u001b[0;32m      <a href='vscode-notebook-cell:/c%3A/Users/Abhishek%20Yadav/OneDrive/Desktop/Coding%20Block/Boston_data_set_LR.ipynb#X16sZmlsZQ%3D%3D?line=3'>4</a>\u001b[0m     loss_epoch \u001b[39m=\u001b[39m []\n\u001b[0;32m      <a href='vscode-notebook-cell:/c%3A/Users/Abhishek%20Yadav/OneDrive/Desktop/Coding%20Block/Boston_data_set_LR.ipynb#X16sZmlsZQ%3D%3D?line=4'>5</a>\u001b[0m     lr_rate \u001b[39m=\u001b[39m \u001b[39m0.03\u001b[39m\n",
      "\u001b[1;31mNameError\u001b[0m: name 'train_X' is not defined"
     ]
    }
   ],
   "source": [
    "weight, loss_epoch = gradient_descent(train_x, train_y)"
   ]
  },
  {
   "cell_type": "code",
   "execution_count": null,
   "metadata": {},
   "outputs": [],
   "source": []
  }
 ],
 "metadata": {
  "kernelspec": {
   "display_name": "Python 3 (ipykernel)",
   "language": "python",
   "name": "python3"
  },
  "language_info": {
   "codemirror_mode": {
    "name": "ipython",
    "version": 3
   },
   "file_extension": ".py",
   "mimetype": "text/x-python",
   "name": "python",
   "nbconvert_exporter": "python",
   "pygments_lexer": "ipython3",
   "version": "3.12.0"
  }
 },
 "nbformat": 4,
 "nbformat_minor": 4
}

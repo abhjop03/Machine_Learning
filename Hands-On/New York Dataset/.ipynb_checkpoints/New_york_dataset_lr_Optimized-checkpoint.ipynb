{
 "cells": [
  {
   "cell_type": "code",
   "execution_count": 73,
   "id": "38a187d9-71f7-42ce-8e57-2a8477381bf6",
   "metadata": {},
   "outputs": [],
   "source": [
    "import numpy as np\n",
    "import pandas as pd \n",
    "import matplotlib.pyplot as plt\n",
    "from sklearn.linear_model import LinearRegression"
   ]
  },
  {
   "cell_type": "code",
   "execution_count": 74,
   "id": "c798b3ab-3557-4eae-b3bc-d795cee2884c",
   "metadata": {},
   "outputs": [],
   "source": [
    "dataset = pd.read_csv('C:/Users/Abhishek Yadav/OneDrive/Documents/GitHub/Machine_Learning/Dataset/New York Stock Exchange/prices-split-adjusted.csv')"
   ]
  },
  {
   "cell_type": "code",
   "execution_count": 75,
   "id": "64e70a1b-84c5-4c6f-8960-bbcb7e96fce5",
   "metadata": {},
   "outputs": [],
   "source": [
    "label = dataset[['close']]"
   ]
  },
  {
   "cell_type": "code",
   "execution_count": 76,
   "id": "7fd987cc-8789-43d1-9072-d7bccc7f4672",
   "metadata": {},
   "outputs": [],
   "source": [
    "dataset.drop(['close'], axis =1, inplace= True)"
   ]
  },
  {
   "cell_type": "code",
   "execution_count": 77,
   "id": "2cadc526-fe62-43b2-abad-2599fe5d367a",
   "metadata": {},
   "outputs": [],
   "source": [
    "dataset.drop(['date','symbol'], inplace= True, axis=1)"
   ]
  },
  {
   "cell_type": "code",
   "execution_count": 78,
   "id": "862afcd9-2b56-4a50-8699-32951f10f975",
   "metadata": {},
   "outputs": [],
   "source": [
    "# Normalization of the above data\n",
    "# Dataset\n",
    "dataset_mean = np.mean(dataset, axis=0)\n",
    "dataset_st = np.std(dataset, axis=0)\n",
    "\n",
    "dataset = (dataset - dataset_mean) / dataset_st\n",
    "\n",
    "# Label\n",
    "label_mean = np.mean(label, axis=0)\n",
    "label_st = np.std(label, axis =0)\n",
    "\n",
    "label = (label - label_mean)/label_st"
   ]
  },
  {
   "cell_type": "code",
   "execution_count": 79,
   "id": "f6acd9aa-18da-4138-a2c8-458953b27a84",
   "metadata": {},
   "outputs": [],
   "source": [
    "ones = np.ones((dataset.shape[0], 1))\n",
    "dataset = np.hstack((ones, dataset))"
   ]
  },
  {
   "cell_type": "code",
   "execution_count": 80,
   "id": "89f33921",
   "metadata": {},
   "outputs": [
    {
     "data": {
      "text/plain": [
       "array([[False, False, False, False, False],\n",
       "       [False, False, False, False, False],\n",
       "       [False, False, False, False, False],\n",
       "       ...,\n",
       "       [False, False, False, False, False],\n",
       "       [False, False, False, False, False],\n",
       "       [False, False, False, False, False]])"
      ]
     },
     "execution_count": 80,
     "metadata": {},
     "output_type": "execute_result"
    }
   ],
   "source": [
    "np.isnan(dataset)"
   ]
  },
  {
   "cell_type": "code",
   "execution_count": 81,
   "id": "6cfaf92b-fed5-4c9d-9f3b-23bcb93d98ef",
   "metadata": {},
   "outputs": [],
   "source": [
    "# split the dataset\n",
    "split = 0.8\n",
    "x_train = dataset[:int(dataset.shape[0] * split)]\n",
    "x_test = dataset[int(dataset.shape[0] * split) : ]\n",
    "\n",
    "y_train = label[:int(label.shape[0] * split)]\n",
    "y_test = label[int(label.shape[0] * split) : ]"
   ]
  },
  {
   "cell_type": "code",
   "execution_count": 82,
   "id": "2710217f-7763-4fb6-96c5-c9b270f48736",
   "metadata": {},
   "outputs": [
    {
     "name": "stdout",
     "output_type": "stream",
     "text": [
      "(681011, 5) (170253, 5) (681011, 1) (170253, 1)\n"
     ]
    }
   ],
   "source": [
    "print(x_train.shape, x_test.shape, y_train.shape, y_test.shape)"
   ]
  },
  {
   "cell_type": "code",
   "execution_count": 83,
   "id": "ee076945-7eec-4a3f-b6b1-8e110f091dc5",
   "metadata": {},
   "outputs": [
    {
     "data": {
      "text/plain": [
       "0.999935047026529"
      ]
     },
     "execution_count": 83,
     "metadata": {},
     "output_type": "execute_result"
    }
   ],
   "source": [
    "lr = LinearRegression()\n",
    "lr = lr.fit(x_train, y_train)\n",
    "lr.score(x_train, y_train)"
   ]
  },
  {
   "cell_type": "code",
   "execution_count": 84,
   "id": "f6b65c35-8bbe-426c-a110-127024daa141",
   "metadata": {},
   "outputs": [
    {
     "name": "stdout",
     "output_type": "stream",
     "text": [
      "[[ 0.00000000e+00 -5.63283037e-01  7.56310794e-01  8.06830639e-01\n",
      "  -2.51758554e-05]]\n"
     ]
    }
   ],
   "source": [
    "print(lr.coef_)"
   ]
  },
  {
   "cell_type": "code",
   "execution_count": 86,
   "id": "f0e70c2f",
   "metadata": {},
   "outputs": [],
   "source": [
    "y_pred = lr.predict(x_test)"
   ]
  },
  {
   "cell_type": "code",
   "execution_count": 87,
   "id": "95590d12",
   "metadata": {},
   "outputs": [
    {
     "data": {
      "text/plain": [
       "array([[ 0.44645636],\n",
       "       [ 0.25878141],\n",
       "       [-0.33203072],\n",
       "       ...,\n",
       "       [-0.153886  ],\n",
       "       [-0.26377104],\n",
       "       [-0.14899398]])"
      ]
     },
     "execution_count": 87,
     "metadata": {},
     "output_type": "execute_result"
    }
   ],
   "source": [
    "y_pred"
   ]
  },
  {
   "cell_type": "code",
   "execution_count": null,
   "id": "01ef8ccb",
   "metadata": {},
   "outputs": [],
   "source": []
  }
 ],
 "metadata": {
  "kernelspec": {
   "display_name": "Python 3 (ipykernel)",
   "language": "python",
   "name": "python3"
  },
  "language_info": {
   "codemirror_mode": {
    "name": "ipython",
    "version": 3
   },
   "file_extension": ".py",
   "mimetype": "text/x-python",
   "name": "python",
   "nbconvert_exporter": "python",
   "pygments_lexer": "ipython3",
   "version": "3.12.0"
  }
 },
 "nbformat": 4,
 "nbformat_minor": 5
}

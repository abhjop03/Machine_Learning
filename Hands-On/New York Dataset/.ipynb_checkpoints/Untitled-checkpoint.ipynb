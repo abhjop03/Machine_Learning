{
 "cells": [
  {
   "cell_type": "code",
   "execution_count": null,
   "id": "7615b8ce-5cac-4a49-a03d-82cdfccba8d2",
   "metadata": {},
   "outputs": [],
   "source": [
    "import pandas as pd\n",
    "import numpy as np"
   ]
  },
  {
   "cell_type": "code",
   "execution_count": null,
   "id": "93dd4617-a459-46b8-a6a7-336d53ba3150",
   "metadata": {},
   "outputs": [],
   "source": [
    "df = pd.read_csv(\"prices-split-adjusted1.csv\")"
   ]
  },
  {
   "cell_type": "code",
   "execution_count": null,
   "id": "6b6c093c-b369-4f25-b51f-1a2e600de5e8",
   "metadata": {},
   "outputs": [],
   "source": [
    "label = df['close']\n",
    "df.drop([\"date\",\"symbol\", \"close\"], axis = 1, inplace= True)"
   ]
  },
  {
   "cell_type": "code",
   "execution_count": null,
   "id": "9b3bfb19-1d5f-4d3d-8f3c-23c8a70993d4",
   "metadata": {},
   "outputs": [],
   "source": [
    "df.isnull().sum()"
   ]
  },
  {
   "cell_type": "code",
   "execution_count": null,
   "id": "b09e8575-c7dd-444c-aec0-d2468f77bc23",
   "metadata": {},
   "outputs": [],
   "source": [
    "label.isnull().sum()"
   ]
  },
  {
   "cell_type": "code",
   "execution_count": null,
   "id": "4fedec3a-db3d-4ef5-9dd1-4568354174d3",
   "metadata": {},
   "outputs": [],
   "source": [
    "# Normalization of data\n",
    "\n",
    "df_mean = np.mean(df, axis=0)\n",
    "df_std = np.std(df, axis=0)\n",
    "df = (df - df_mean)/df_std\n",
    "\n",
    "label_mean = np.mean(label, axis=0)\n",
    "label_std = np.std(label, axis=0)\n",
    "label = (label - label_mean)/label_std"
   ]
  },
  {
   "cell_type": "code",
   "execution_count": null,
   "id": "0a8d64c2-8d2f-4c8e-89ce-8b508f4d1dbf",
   "metadata": {},
   "outputs": [],
   "source": [
    "df.shape"
   ]
  },
  {
   "cell_type": "code",
   "execution_count": null,
   "id": "9ad01a38-570c-43c9-aaca-26f5ac9cc865",
   "metadata": {},
   "outputs": [],
   "source": [
    "ones = np.ones((df.shape[0], 1))\n",
    "df = np.hstack((ones, df))"
   ]
  },
  {
   "cell_type": "code",
   "execution_count": null,
   "id": "835a8eab-c123-4662-a370-3b37193a2e48",
   "metadata": {},
   "outputs": [],
   "source": [
    "label.shape"
   ]
  },
  {
   "cell_type": "code",
   "execution_count": null,
   "id": "b7ffe962-8a60-45c6-a771-e7d31e93d791",
   "metadata": {},
   "outputs": [],
   "source": [
    "# split data\n",
    "split = 0.8\n",
    "train_x = df[:int(df.shape[0] * split)]\n",
    "train_y = label[:int(label.shape[0] * split)]\n",
    "\n",
    "test_x = df[int(df.shape[0] * split):]\n",
    "test_y = label[int(label.shape[0] * split):]"
   ]
  },
  {
   "cell_type": "code",
   "execution_count": null,
   "id": "c3d1927f-23d3-4325-a19d-a038573911e5",
   "metadata": {},
   "outputs": [],
   "source": [
    "train_x"
   ]
  },
  {
   "cell_type": "code",
   "execution_count": null,
   "id": "c414619c-03bf-42ee-9492-ff9e1f9233db",
   "metadata": {},
   "outputs": [],
   "source": []
  },
  {
   "cell_type": "code",
   "execution_count": null,
   "id": "608a34ca-4687-435f-b08c-a5a1f8a1c7f2",
   "metadata": {},
   "outputs": [],
   "source": [
    "print(train_x.shape, train_y.shape, test_x.shape, test_y.shape)"
   ]
  },
  {
   "cell_type": "code",
   "execution_count": null,
   "id": "a1b88c00-069c-4eba-b16a-51ded01b1d66",
   "metadata": {},
   "outputs": [],
   "source": [
    "def hypothesis(x, weight):\n",
    "    print('hypothesis')\n",
    "    print(f'x.shape = {x.shape}, weight.shape = {weight.shape}')\n",
    "    pred = 0\n",
    "    for i in range (x.shape[0]):\n",
    "        print(f'weight[{i}] = {weight[i]} , x[{i}] = {x[i]}')\n",
    "        pred += weight[i] * x[i]\n",
    "    return pred"
   ]
  },
  {
   "cell_type": "code",
   "execution_count": null,
   "id": "6397e5a0-2a37-4c9b-9062-7650ab1f4f9d",
   "metadata": {},
   "outputs": [],
   "source": [
    "def loss(x, y, weight):\n",
    "    error = 0\n",
    "    for i in range (x.shape[0]):\n",
    "        y_pred = hypothesis(x[i], weight)\n",
    "        error += (y_pred - y[i])**2\n",
    "    return error/x.shape[0]"
   ]
  },
  {
   "cell_type": "code",
   "execution_count": null,
   "id": "75534ce4-72b9-4a59-bfe0-214f1c1869e5",
   "metadata": {},
   "outputs": [],
   "source": [
    "def gradient(x, y, weight):\n",
    "    grad = np.zeros((x.shape[1], 1))\n",
    "    for j in range (x.shape[1]):\n",
    "        for i in range(x.shape[0]):\n",
    "            y_pred = hypothesis(x[i], weight)\n",
    "            grad[j] += (y_pred - y[i]) * x [i, j]\n",
    "    return grad/x.shape[0]"
   ]
  },
  {
   "cell_type": "code",
   "execution_count": null,
   "id": "f084d075-7824-4acf-9617-08282fe2aa12",
   "metadata": {},
   "outputs": [],
   "source": [
    "def gradient_descent(x, y):\n",
    "    weight = np.zeros((x.shape[1], 1))\n",
    "    cost = []\n",
    "    lr_rate = 0.03\n",
    "    epoches = 1000\n",
    "\n",
    "    for i in range (epoches):\n",
    "        cost.append(loss(x, y, weight))\n",
    "        grad = gradient(x, y, weight)\n",
    "        print(f'cost on : {i}', end = '\\r')\n",
    "\n",
    "        for j in range (x.shape[1]):\n",
    "            weight[j] = weight[j] - lr_rate * grad[j]\n",
    "\n",
    "    return weight, cost"
   ]
  },
  {
   "cell_type": "code",
   "execution_count": null,
   "id": "826a3f26-4e19-43c6-bda8-0fddcff6a6db",
   "metadata": {},
   "outputs": [],
   "source": [
    "weight, loss_epoches = gradient_descent(train_x, train_y)"
   ]
  },
  {
   "cell_type": "code",
   "execution_count": null,
   "id": "1e708c4d-983a-45a7-b49a-ed74c1caffce",
   "metadata": {},
   "outputs": [],
   "source": []
  },
  {
   "cell_type": "code",
   "execution_count": null,
   "id": "bcc8084f-0329-4f26-8d5c-93d003a978f4",
   "metadata": {},
   "outputs": [],
   "source": []
  },
  {
   "cell_type": "code",
   "execution_count": null,
   "id": "f88fbd5b-dbbe-481b-ad5c-9f4de809481d",
   "metadata": {},
   "outputs": [],
   "source": []
  }
 ],
 "metadata": {
  "kernelspec": {
   "display_name": "Python 3 (ipykernel)",
   "language": "python",
   "name": "python3"
  },
  "language_info": {
   "codemirror_mode": {
    "name": "ipython",
    "version": 3
   },
   "file_extension": ".py",
   "mimetype": "text/x-python",
   "name": "python",
   "nbconvert_exporter": "python",
   "pygments_lexer": "ipython3",
   "version": "3.12.0"
  }
 },
 "nbformat": 4,
 "nbformat_minor": 5
}

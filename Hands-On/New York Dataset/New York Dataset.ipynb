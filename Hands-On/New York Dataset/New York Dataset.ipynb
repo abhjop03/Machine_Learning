{
 "cells": [
  {
   "cell_type": "code",
   "execution_count": 1,
   "id": "38a187d9-71f7-42ce-8e57-2a8477381bf6",
   "metadata": {},
   "outputs": [],
   "source": [
    "import numpy as np\n",
    "import pandas as pd \n",
    "import matplotlib.pyplot as plt"
   ]
  },
  {
   "cell_type": "code",
   "execution_count": 2,
   "id": "c798b3ab-3557-4eae-b3bc-d795cee2884c",
   "metadata": {},
   "outputs": [],
   "source": [
    "dataset = pd.read_csv('C:/Users/Abhishek Yadav/OneDrive/Documents/GitHub/Machine_Learning/Dataset/New York Stock Exchange/prices-split-adjusted.csv')"
   ]
  },
  {
   "cell_type": "code",
   "execution_count": 3,
   "id": "64e70a1b-84c5-4c6f-8960-bbcb7e96fce5",
   "metadata": {},
   "outputs": [],
   "source": [
    "label = dataset['close']"
   ]
  },
  {
   "cell_type": "code",
   "execution_count": 4,
   "id": "7fd987cc-8789-43d1-9072-d7bccc7f4672",
   "metadata": {},
   "outputs": [],
   "source": [
    "dataset.drop(['close'], axis =1, inplace= True)"
   ]
  },
  {
   "cell_type": "code",
   "execution_count": 5,
   "id": "2cadc526-fe62-43b2-abad-2599fe5d367a",
   "metadata": {},
   "outputs": [],
   "source": [
    "dataset.drop(['date','symbol'], inplace= True, axis=1)"
   ]
  },
  {
   "cell_type": "code",
   "execution_count": 6,
   "id": "30249ffb-62d6-496a-b29c-1bbf7e209e56",
   "metadata": {},
   "outputs": [],
   "source": [
    "ones = np.ones((dataset.shape[0], 1))\n",
    "dataset = np.hstack((ones, dataset))"
   ]
  },
  {
   "cell_type": "code",
   "execution_count": 7,
   "id": "2f7eb70f-cae3-409e-b392-fdf660df7820",
   "metadata": {},
   "outputs": [
    {
     "data": {
      "text/plain": [
       "array([[1.00000000e+00, 1.23430000e+02, 1.22309998e+02, 1.26250000e+02,\n",
       "        2.16360000e+06],\n",
       "       [1.00000000e+00, 1.25239998e+02, 1.19940002e+02, 1.25540001e+02,\n",
       "        2.38640000e+06],\n",
       "       [1.00000000e+00, 1.16379997e+02, 1.14930000e+02, 1.19739998e+02,\n",
       "        2.48950000e+06],\n",
       "       ...,\n",
       "       [1.00000000e+00, 5.36399990e+01, 5.32700000e+01, 5.37400020e+01,\n",
       "        1.70120000e+06],\n",
       "       [1.00000000e+00, 4.47300000e+01, 4.44100000e+01, 4.55900000e+01,\n",
       "        1.38090000e+06],\n",
       "       [1.00000000e+00, 5.42000010e+01, 5.33899990e+01, 5.44800000e+01,\n",
       "        7.05100000e+05]])"
      ]
     },
     "execution_count": 7,
     "metadata": {},
     "output_type": "execute_result"
    }
   ],
   "source": [
    "dataset"
   ]
  },
  {
   "cell_type": "code",
   "execution_count": 8,
   "id": "862afcd9-2b56-4a50-8699-32951f10f975",
   "metadata": {},
   "outputs": [
    {
     "name": "stderr",
     "output_type": "stream",
     "text": [
      "C:\\Users\\Abhishek Yadav\\AppData\\Local\\Temp\\ipykernel_12504\\626263050.py:6: RuntimeWarning: invalid value encountered in divide\n",
      "  dataset = (dataset - dataset_mean)/dataset_st\n"
     ]
    }
   ],
   "source": [
    "# Normalization of the above data\n",
    "# Dataset\n",
    "dataset_mean = np.mean(dataset, axis=0)\n",
    "dataset_st = np.std(dataset, axis=0)\n",
    "\n",
    "dataset = (dataset - dataset_mean)/dataset_st\n",
    "\n",
    "# Label\n",
    "label_mean = np.mean(label, axis=0)\n",
    "label_st = np.std(label, axis =0)\n",
    "\n",
    "label = (label - label_mean)/label_st"
   ]
  },
  {
   "cell_type": "code",
   "execution_count": 9,
   "id": "f6acd9aa-18da-4138-a2c8-458953b27a84",
   "metadata": {},
   "outputs": [
    {
     "data": {
      "text/plain": [
       "(851264, 5)"
      ]
     },
     "execution_count": 9,
     "metadata": {},
     "output_type": "execute_result"
    }
   ],
   "source": [
    "dataset.shape"
   ]
  },
  {
   "cell_type": "code",
   "execution_count": 10,
   "id": "6cfaf92b-fed5-4c9d-9f3b-23bcb93d98ef",
   "metadata": {},
   "outputs": [],
   "source": [
    "# split the dataset\n",
    "split = 0.8\n",
    "x_train = dataset[:int(dataset.shape[0] * split)]\n",
    "x_test = dataset[int(dataset.shape[0] * split) : ]\n",
    "\n",
    "y_train = label[:int(label.shape[0] * split)]\n",
    "y_test = label[int(label.shape[0] * split) : ]"
   ]
  },
  {
   "cell_type": "code",
   "execution_count": 11,
   "id": "2710217f-7763-4fb6-96c5-c9b270f48736",
   "metadata": {},
   "outputs": [
    {
     "name": "stdout",
     "output_type": "stream",
     "text": [
      "(681011, 5) (170253, 5) (681011,) (170253,)\n"
     ]
    }
   ],
   "source": [
    "print(x_train.shape, x_test.shape, y_train.shape, y_test.shape)"
   ]
  },
  {
   "cell_type": "code",
   "execution_count": 12,
   "id": "96acef4e-ebaa-46ba-8401-ff6d477e916a",
   "metadata": {},
   "outputs": [],
   "source": [
    "def hypothesis(x, weight):\n",
    "    #print('hypothesis')\n",
    "    pred = 0\n",
    "    for i in range(x.shape[0]):\n",
    "        pred += x[i] * weight[i]\n",
    "    return pred        "
   ]
  },
  {
   "cell_type": "code",
   "execution_count": 13,
   "id": "2bc8d191-eb45-4e8d-a840-9ca50812c58e",
   "metadata": {},
   "outputs": [],
   "source": [
    "def loss(x,y, weight):\n",
    "    #print('loss')\n",
    "    loss = 0\n",
    "    for i in range(x.shape[0]):\n",
    "        pred = hypothesis(x[i], weight)\n",
    "        loss += (pred - y[i])**2\n",
    "    return loss/x.shape[0]\n",
    "    "
   ]
  },
  {
   "cell_type": "code",
   "execution_count": 14,
   "id": "e37ac8ad-7c5a-4120-93f1-060c517780fb",
   "metadata": {},
   "outputs": [],
   "source": [
    "def gradient(x,y,weight):\n",
    "    #print('gradient')\n",
    "    grad = np.zeros((x.shape[1], 1))\n",
    "    for i in range(x.shape[1]):\n",
    "        for j in range(x.shape[0]):\n",
    "            y_pred = hypothesis(x[j], weight)\n",
    "            grad[i] += (y_pred - y[j]) * x[j][i]\n",
    "    return grad/x.shape[0]"
   ]
  },
  {
   "cell_type": "code",
   "execution_count": 15,
   "id": "b05349cf-c8ee-417a-9336-2a69e53854d0",
   "metadata": {},
   "outputs": [],
   "source": [
    "def grad_descent(x,y):\n",
    "    weight = np.zeros((x.shape[1], 1))\n",
    "    epoches = 10\n",
    "    lr_rate = 0.03\n",
    "    cost = []\n",
    "    for j in range(epoches):\n",
    "        cost.append(loss(x, y, weight))\n",
    "        print(f'cost on : {j}', end = '\\r')\n",
    "        grad = gradient(x,y,weight)\n",
    "        for i in range(x.shape[1]):\n",
    "            print(f' i : {i}', end = '\\r')\n",
    "            weight[i] = weight[i] - lr_rate * grad[i]\n",
    "    return weight, cost"
   ]
  },
  {
   "cell_type": "code",
   "execution_count": 16,
   "id": "7003f574-ac79-410a-83bd-c28a743fda4e",
   "metadata": {},
   "outputs": [
    {
     "name": "stdout",
     "output_type": "stream",
     "text": [
      " i : 4n : 9\r"
     ]
    }
   ],
   "source": [
    "weight, cost = grad_descent(x_train, y_train)"
   ]
  },
  {
   "cell_type": "code",
   "execution_count": 17,
   "id": "35b3d18b-d985-48a4-8f29-6666e29ddb11",
   "metadata": {},
   "outputs": [
    {
     "name": "stdout",
     "output_type": "stream",
     "text": [
      "[[nan]\n",
      " [nan]\n",
      " [nan]\n",
      " [nan]\n",
      " [nan]] [array([nan]), array([nan]), array([nan]), array([nan]), array([nan]), array([nan]), array([nan]), array([nan]), array([nan]), array([nan])]\n"
     ]
    }
   ],
   "source": [
    "print(weight, cost)"
   ]
  },
  {
   "cell_type": "code",
   "execution_count": null,
   "id": "ee076945-7eec-4a3f-b6b1-8e110f091dc5",
   "metadata": {},
   "outputs": [],
   "source": []
  },
  {
   "cell_type": "code",
   "execution_count": null,
   "id": "f6b65c35-8bbe-426c-a110-127024daa141",
   "metadata": {},
   "outputs": [],
   "source": []
  },
  {
   "cell_type": "code",
   "execution_count": null,
   "id": "f0e70c2f",
   "metadata": {},
   "outputs": [],
   "source": []
  }
 ],
 "metadata": {
  "kernelspec": {
   "display_name": "Python 3 (ipykernel)",
   "language": "python",
   "name": "python3"
  },
  "language_info": {
   "codemirror_mode": {
    "name": "ipython",
    "version": 3
   },
   "file_extension": ".py",
   "mimetype": "text/x-python",
   "name": "python",
   "nbconvert_exporter": "python",
   "pygments_lexer": "ipython3",
   "version": "3.12.0"
  }
 },
 "nbformat": 4,
 "nbformat_minor": 5
}

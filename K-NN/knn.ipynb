{
 "cells": [
  {
   "cell_type": "code",
   "execution_count": 1,
   "metadata": {},
   "outputs": [],
   "source": [
    "import pandas as pd\n",
    "import numpy as np\n",
    "import matplotlib.pyplot as plt"
   ]
  },
  {
   "cell_type": "code",
   "execution_count": 2,
   "metadata": {},
   "outputs": [
    {
     "data": {
      "text/plain": [
       "['Solarize_Light2',\n",
       " '_classic_test_patch',\n",
       " '_mpl-gallery',\n",
       " '_mpl-gallery-nogrid',\n",
       " 'bmh',\n",
       " 'classic',\n",
       " 'dark_background',\n",
       " 'fast',\n",
       " 'fivethirtyeight',\n",
       " 'ggplot',\n",
       " 'grayscale',\n",
       " 'seaborn-v0_8',\n",
       " 'seaborn-v0_8-bright',\n",
       " 'seaborn-v0_8-colorblind',\n",
       " 'seaborn-v0_8-dark',\n",
       " 'seaborn-v0_8-dark-palette',\n",
       " 'seaborn-v0_8-darkgrid',\n",
       " 'seaborn-v0_8-deep',\n",
       " 'seaborn-v0_8-muted',\n",
       " 'seaborn-v0_8-notebook',\n",
       " 'seaborn-v0_8-paper',\n",
       " 'seaborn-v0_8-pastel',\n",
       " 'seaborn-v0_8-poster',\n",
       " 'seaborn-v0_8-talk',\n",
       " 'seaborn-v0_8-ticks',\n",
       " 'seaborn-v0_8-white',\n",
       " 'seaborn-v0_8-whitegrid',\n",
       " 'tableau-colorblind10']"
      ]
     },
     "execution_count": 2,
     "metadata": {},
     "output_type": "execute_result"
    }
   ],
   "source": [
    "plt.style.available"
   ]
  },
  {
   "cell_type": "code",
   "execution_count": 3,
   "metadata": {},
   "outputs": [],
   "source": [
    "plt.style.use( 'seaborn-v0_8-dark-palette')"
   ]
  },
  {
   "cell_type": "code",
   "execution_count": 4,
   "metadata": {},
   "outputs": [],
   "source": [
    "X_data = []\n",
    "Y_data = []\n",
    "\n",
    "for i in range(100):\n",
    "    point = np.random.randint(-25, 25, 2)\n",
    "    X_data.append(point)\n",
    "    Y_data.append(np.ones(1))\n",
    "    \n",
    "for i in range(100):\n",
    "    point = np.random.randint(26, 50, 2)\n",
    "    X_data.append(point) \n",
    "    Y_data.append(np.zeros(1))"
   ]
  },
  {
   "cell_type": "code",
   "execution_count": 5,
   "metadata": {},
   "outputs": [],
   "source": [
    "X_data = np.array(X_data)\n",
    "Y_data = np.array(Y_data)"
   ]
  },
  {
   "cell_type": "code",
   "execution_count": 6,
   "metadata": {},
   "outputs": [
    {
     "data": {
      "text/plain": [
       "array([[1.],\n",
       "       [1.],\n",
       "       [1.],\n",
       "       [1.],\n",
       "       [1.],\n",
       "       [1.],\n",
       "       [1.],\n",
       "       [1.],\n",
       "       [1.],\n",
       "       [1.],\n",
       "       [1.],\n",
       "       [1.],\n",
       "       [1.],\n",
       "       [1.],\n",
       "       [1.],\n",
       "       [1.],\n",
       "       [1.],\n",
       "       [1.],\n",
       "       [1.],\n",
       "       [1.],\n",
       "       [1.],\n",
       "       [1.],\n",
       "       [1.],\n",
       "       [1.],\n",
       "       [1.],\n",
       "       [1.],\n",
       "       [1.],\n",
       "       [1.],\n",
       "       [1.],\n",
       "       [1.],\n",
       "       [1.],\n",
       "       [1.],\n",
       "       [1.],\n",
       "       [1.],\n",
       "       [1.],\n",
       "       [1.],\n",
       "       [1.],\n",
       "       [1.],\n",
       "       [1.],\n",
       "       [1.],\n",
       "       [1.],\n",
       "       [1.],\n",
       "       [1.],\n",
       "       [1.],\n",
       "       [1.],\n",
       "       [1.],\n",
       "       [1.],\n",
       "       [1.],\n",
       "       [1.],\n",
       "       [1.],\n",
       "       [1.],\n",
       "       [1.],\n",
       "       [1.],\n",
       "       [1.],\n",
       "       [1.],\n",
       "       [1.],\n",
       "       [1.],\n",
       "       [1.],\n",
       "       [1.],\n",
       "       [1.],\n",
       "       [1.],\n",
       "       [1.],\n",
       "       [1.],\n",
       "       [1.],\n",
       "       [1.],\n",
       "       [1.],\n",
       "       [1.],\n",
       "       [1.],\n",
       "       [1.],\n",
       "       [1.],\n",
       "       [1.],\n",
       "       [1.],\n",
       "       [1.],\n",
       "       [1.],\n",
       "       [1.],\n",
       "       [1.],\n",
       "       [1.],\n",
       "       [1.],\n",
       "       [1.],\n",
       "       [1.],\n",
       "       [1.],\n",
       "       [1.],\n",
       "       [1.],\n",
       "       [1.],\n",
       "       [1.],\n",
       "       [1.],\n",
       "       [1.],\n",
       "       [1.],\n",
       "       [1.],\n",
       "       [1.],\n",
       "       [1.],\n",
       "       [1.],\n",
       "       [1.],\n",
       "       [1.],\n",
       "       [1.],\n",
       "       [1.],\n",
       "       [1.],\n",
       "       [1.],\n",
       "       [1.],\n",
       "       [1.],\n",
       "       [0.],\n",
       "       [0.],\n",
       "       [0.],\n",
       "       [0.],\n",
       "       [0.],\n",
       "       [0.],\n",
       "       [0.],\n",
       "       [0.],\n",
       "       [0.],\n",
       "       [0.],\n",
       "       [0.],\n",
       "       [0.],\n",
       "       [0.],\n",
       "       [0.],\n",
       "       [0.],\n",
       "       [0.],\n",
       "       [0.],\n",
       "       [0.],\n",
       "       [0.],\n",
       "       [0.],\n",
       "       [0.],\n",
       "       [0.],\n",
       "       [0.],\n",
       "       [0.],\n",
       "       [0.],\n",
       "       [0.],\n",
       "       [0.],\n",
       "       [0.],\n",
       "       [0.],\n",
       "       [0.],\n",
       "       [0.],\n",
       "       [0.],\n",
       "       [0.],\n",
       "       [0.],\n",
       "       [0.],\n",
       "       [0.],\n",
       "       [0.],\n",
       "       [0.],\n",
       "       [0.],\n",
       "       [0.],\n",
       "       [0.],\n",
       "       [0.],\n",
       "       [0.],\n",
       "       [0.],\n",
       "       [0.],\n",
       "       [0.],\n",
       "       [0.],\n",
       "       [0.],\n",
       "       [0.],\n",
       "       [0.],\n",
       "       [0.],\n",
       "       [0.],\n",
       "       [0.],\n",
       "       [0.],\n",
       "       [0.],\n",
       "       [0.],\n",
       "       [0.],\n",
       "       [0.],\n",
       "       [0.],\n",
       "       [0.],\n",
       "       [0.],\n",
       "       [0.],\n",
       "       [0.],\n",
       "       [0.],\n",
       "       [0.],\n",
       "       [0.],\n",
       "       [0.],\n",
       "       [0.],\n",
       "       [0.],\n",
       "       [0.],\n",
       "       [0.],\n",
       "       [0.],\n",
       "       [0.],\n",
       "       [0.],\n",
       "       [0.],\n",
       "       [0.],\n",
       "       [0.],\n",
       "       [0.],\n",
       "       [0.],\n",
       "       [0.],\n",
       "       [0.],\n",
       "       [0.],\n",
       "       [0.],\n",
       "       [0.],\n",
       "       [0.],\n",
       "       [0.],\n",
       "       [0.],\n",
       "       [0.],\n",
       "       [0.],\n",
       "       [0.],\n",
       "       [0.],\n",
       "       [0.],\n",
       "       [0.],\n",
       "       [0.],\n",
       "       [0.],\n",
       "       [0.],\n",
       "       [0.],\n",
       "       [0.],\n",
       "       [0.],\n",
       "       [0.]])"
      ]
     },
     "execution_count": 6,
     "metadata": {},
     "output_type": "execute_result"
    }
   ],
   "source": [
    "Y_data"
   ]
  },
  {
   "cell_type": "code",
   "execution_count": 7,
   "metadata": {},
   "outputs": [
    {
     "data": {
      "text/plain": [
       "((200, 2), (200, 1))"
      ]
     },
     "execution_count": 7,
     "metadata": {},
     "output_type": "execute_result"
    }
   ],
   "source": [
    "X_data.shape, Y_data.shape"
   ]
  },
  {
   "cell_type": "code",
   "execution_count": 8,
   "metadata": {},
   "outputs": [
    {
     "data": {
      "text/plain": [
       "<matplotlib.collections.PathCollection at 0x2afffee4800>"
      ]
     },
     "execution_count": 8,
     "metadata": {},
     "output_type": "execute_result"
    },
    {
     "data": {
      "image/png": "[encoded data removed]",
      "text/plain": [
       "<Figure size 640x480 with 1 Axes>"
      ]
     },
     "metadata": {},
     "output_type": "display_data"
    }
   ],
   "source": [
    "plt.scatter(X_data[:,0], X_data[:,1],c=Y_data)"
   ]
  },
  {
   "cell_type": "code",
   "execution_count": 9,
   "metadata": {},
   "outputs": [],
   "source": [
    "from sklearn.utils import shuffle\n",
    "\n",
    "X_data, Y_data = shuffle(X_data, Y_data, random_state=10)\n",
    "split = 0.8\n",
    "\n",
    "X_train = X_data[:int(split* X_data.shape[0]), :]\n",
    "Y_train = Y_data[:int(split* Y_data.shape[0]), :]\n",
    "\n",
    "X_test = X_data[int(split* X_data.shape[0]):, :]\n",
    "Y_test = Y_data[int(split* Y_data.shape[0]):, :]"
   ]
  },
  {
   "cell_type": "code",
   "execution_count": 10,
   "metadata": {},
   "outputs": [
    {
     "data": {
      "text/plain": [
       "((160, 2), (40, 2), (160, 1), (40, 1))"
      ]
     },
     "execution_count": 10,
     "metadata": {},
     "output_type": "execute_result"
    }
   ],
   "source": [
    "X_train.shape, X_test.shape, Y_train.shape, Y_test.shape"
   ]
  },
  {
   "cell_type": "code",
   "execution_count": 11,
   "metadata": {},
   "outputs": [],
   "source": [
    "def distance_formula(p1,p2):\n",
    "    return((p1[0]-p2[0])**2 + (p1[1]-p2[1])**2)**0.5"
   ]
  },
  {
   "cell_type": "code",
   "execution_count": 12,
   "metadata": {},
   "outputs": [
    {
     "data": {
      "text/plain": [
       "1.0"
      ]
     },
     "execution_count": 12,
     "metadata": {},
     "output_type": "execute_result"
    }
   ],
   "source": [
    "distance_formula((2,0),(2,1))"
   ]
  },
  {
   "cell_type": "code",
   "execution_count": 13,
   "metadata": {},
   "outputs": [],
   "source": [
    "class KNN:\n",
    "    def __init__(self,k):\n",
    "        self.k = k\n",
    "        \n",
    "    def data(self, X_data,Y_data):\n",
    "        self.X = X_data\n",
    "        self.Y = Y_data\n",
    "    \n",
    "    def predict(self, point):\n",
    "        dist = []\n",
    "        for i in range (self.X.shape[0]):\n",
    "            dist.append((distance_formula(point, self.X[i]), i))\n",
    "        dist = sorted(dist)\n",
    "        distance = dist[:self.k]\n",
    "        classes = []\n",
    "        \n",
    "        for distance, i in distance:\n",
    "            classes.append(self.Y[i])\n",
    "        \n",
    "        unique_class, count = np.unique(classes, return_counts=True)\n",
    "        \n",
    "        max_class = np.argmax(count)\n",
    "        \n",
    "        print(f'Class: {unique_class[max_class]}, prob: {count[max_class]/self.k}')\n",
    "        \n",
    "        return unique_class[max_class], count[max_class]/self.k"
   ]
  },
  {
   "cell_type": "code",
   "execution_count": 14,
   "metadata": {},
   "outputs": [],
   "source": [
    "knn = KNN(5)\n",
    "knn.data( X_train, Y_train)"
   ]
  },
  {
   "cell_type": "code",
   "execution_count": 15,
   "metadata": {},
   "outputs": [
    {
     "name": "stdout",
     "output_type": "stream",
     "text": [
      "Class: 1.0, prob: 1.0\n"
     ]
    },
    {
     "data": {
      "text/plain": [
       "(1.0, 1.0)"
      ]
     },
     "execution_count": 15,
     "metadata": {},
     "output_type": "execute_result"
    }
   ],
   "source": [
    "knn.predict((-30, 40))"
   ]
  },
  {
   "cell_type": "code",
   "execution_count": 16,
   "metadata": {},
   "outputs": [
    {
     "name": "stdout",
     "output_type": "stream",
     "text": [
      "Class: 1.0, prob: 1.0\n",
      "(1.0, 1.0)\n",
      "Class: 1.0, prob: 1.0\n",
      "(1.0, 1.0)\n",
      "Class: 1.0, prob: 1.0\n",
      "(1.0, 1.0)\n",
      "Class: 0.0, prob: 1.0\n",
      "(0.0, 1.0)\n",
      "Class: 1.0, prob: 1.0\n",
      "(1.0, 1.0)\n",
      "Class: 0.0, prob: 1.0\n",
      "(0.0, 1.0)\n",
      "Class: 1.0, prob: 1.0\n",
      "(1.0, 1.0)\n",
      "Class: 1.0, prob: 1.0\n",
      "(1.0, 1.0)\n",
      "Class: 1.0, prob: 1.0\n",
      "(1.0, 1.0)\n",
      "Class: 0.0, prob: 1.0\n",
      "(0.0, 1.0)\n",
      "Class: 0.0, prob: 1.0\n",
      "(0.0, 1.0)\n",
      "Class: 0.0, prob: 1.0\n",
      "(0.0, 1.0)\n",
      "Class: 1.0, prob: 1.0\n",
      "(1.0, 1.0)\n",
      "Class: 1.0, prob: 1.0\n",
      "(1.0, 1.0)\n",
      "Class: 0.0, prob: 1.0\n",
      "(0.0, 1.0)\n",
      "Class: 0.0, prob: 1.0\n",
      "(0.0, 1.0)\n",
      "Class: 1.0, prob: 1.0\n",
      "(1.0, 1.0)\n",
      "Class: 1.0, prob: 1.0\n",
      "(1.0, 1.0)\n",
      "Class: 0.0, prob: 1.0\n",
      "(0.0, 1.0)\n",
      "Class: 0.0, prob: 1.0\n",
      "(0.0, 1.0)\n",
      "Class: 1.0, prob: 1.0\n",
      "(1.0, 1.0)\n",
      "Class: 1.0, prob: 1.0\n",
      "(1.0, 1.0)\n",
      "Class: 0.0, prob: 1.0\n",
      "(0.0, 1.0)\n",
      "Class: 0.0, prob: 1.0\n",
      "(0.0, 1.0)\n",
      "Class: 1.0, prob: 1.0\n",
      "(1.0, 1.0)\n",
      "Class: 0.0, prob: 1.0\n",
      "(0.0, 1.0)\n",
      "Class: 0.0, prob: 1.0\n",
      "(0.0, 1.0)\n",
      "Class: 1.0, prob: 1.0\n",
      "(1.0, 1.0)\n",
      "Class: 1.0, prob: 1.0\n",
      "(1.0, 1.0)\n",
      "Class: 1.0, prob: 1.0\n",
      "(1.0, 1.0)\n",
      "Class: 1.0, prob: 1.0\n",
      "(1.0, 1.0)\n",
      "Class: 0.0, prob: 1.0\n",
      "(0.0, 1.0)\n",
      "Class: 0.0, prob: 1.0\n",
      "(0.0, 1.0)\n",
      "Class: 0.0, prob: 1.0\n",
      "(0.0, 1.0)\n",
      "Class: 0.0, prob: 1.0\n",
      "(0.0, 1.0)\n",
      "Class: 0.0, prob: 1.0\n",
      "(0.0, 1.0)\n",
      "Class: 1.0, prob: 1.0\n",
      "(1.0, 1.0)\n",
      "Class: 1.0, prob: 1.0\n",
      "(1.0, 1.0)\n",
      "Class: 0.0, prob: 1.0\n",
      "(0.0, 1.0)\n",
      "Class: 1.0, prob: 1.0\n",
      "(1.0, 1.0)\n"
     ]
    }
   ],
   "source": [
    "corr = 0\n",
    "for i in range(X_test.shape[0]):\n",
    "    pred = knn.predict(X_test[i])\n",
    "    print(pred)\n",
    "    if pred[0] == Y_test[i]:\n",
    "        corr += 1"
   ]
  },
  {
   "cell_type": "code",
   "execution_count": 17,
   "metadata": {},
   "outputs": [
    {
     "data": {
      "text/plain": [
       "1.0"
      ]
     },
     "execution_count": 17,
     "metadata": {},
     "output_type": "execute_result"
    }
   ],
   "source": [
    "corr/X_test.shape[0]"
   ]
  },
  {
   "cell_type": "code",
   "execution_count": null,
   "metadata": {},
   "outputs": [],
   "source": []
  },
  {
   "cell_type": "code",
   "execution_count": null,
   "metadata": {},
   "outputs": [],
   "source": []
  },
  {
   "cell_type": "code",
   "execution_count": null,
   "metadata": {},
   "outputs": [],
   "source": []
  },
  {
   "cell_type": "code",
   "execution_count": null,
   "metadata": {},
   "outputs": [],
   "source": []
  },
  {
   "cell_type": "code",
   "execution_count": null,
   "metadata": {},
   "outputs": [],
   "source": []
  }
 ],
 "metadata": {
  "kernelspec": {
   "display_name": "Python 3",
   "language": "python",
   "name": "python3"
  },
  "language_info": {
   "codemirror_mode": {
    "name": "ipython",
    "version": 3
   },
   "file_extension": ".py",
   "mimetype": "text/x-python",
   "name": "python",
   "nbconvert_exporter": "python",
   "pygments_lexer": "ipython3",
   "version": "3.12.0"
  }
 },
 "nbformat": 4,
 "nbformat_minor": 2
}
